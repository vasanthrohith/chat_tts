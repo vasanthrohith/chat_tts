{
  "cells": [
    {
      "cell_type": "markdown",
      "metadata": {
        "id": "wpe5ei6xxmNN"
      },
      "source": [
        "# Clone ChatTTS repo"
      ]
    },
    {
      "cell_type": "code",
      "execution_count": 1,
      "metadata": {
        "colab": {
          "base_uri": "https://localhost:8080/"
        },
        "id": "j2uldMmLvXQA",
        "outputId": "3733b2ab-ac90-4228-9dec-86d45021a0d5"
      },
      "outputs": [
        {
          "name": "stdout",
          "output_type": "stream",
          "text": [
            "Cloning into 'ChatTTS'...\n",
            "remote: Enumerating objects: 168, done.\u001b[K\n",
            "remote: Counting objects: 100% (130/130), done.\u001b[K\n",
            "remote: Compressing objects: 100% (79/79), done.\u001b[K\n",
            "remote: Total 168 (delta 92), reused 51 (delta 51), pack-reused 38\u001b[K\n",
            "Receiving objects: 100% (168/168), 2.73 MiB | 6.23 MiB/s, done.\n",
            "Resolving deltas: 100% (93/93), done.\n"
          ]
        }
      ],
      "source": [
        "!git clone https://github.com/2noise/ChatTTS.git"
      ]
    },
    {
      "cell_type": "markdown",
      "metadata": {
        "id": "QhtoYG0wxtRA"
      },
      "source": [
        "# Install the dependencies of ChatTTS"
      ]
    },
    {
      "cell_type": "code",
      "execution_count": null,
      "metadata": {
        "id": "untoXyVjwR6w"
      },
      "outputs": [],
      "source": [
        "!cd ChatTTS && pip install -r requirements.txt"
      ]
    },
    {
      "cell_type": "markdown",
      "metadata": {},
      "source": [
        "# additional dependencies"
      ]
    },
    {
      "cell_type": "code",
      "execution_count": null,
      "metadata": {
        "id": "F1odL7MGyD5w"
      },
      "outputs": [],
      "source": [
        "!pip install gradio pynini nemo_text_processing WeTextProcessing torchaudio"
      ]
    },
    {
      "cell_type": "markdown",
      "metadata": {
        "id": "heFb3Ximx0fc"
      },
      "source": [
        "Now we will create an app to run test the ChatTTS and move it to ChatTTS directory"
      ]
    },
    {
      "cell_type": "code",
      "execution_count": 2,
      "metadata": {
        "id": "qCHZ0w_UvnJ8"
      },
      "outputs": [],
      "source": [
        "!mv app.py /content/ChatTTS/"
      ]
    },
    {
      "cell_type": "markdown",
      "metadata": {
        "id": "xGddzcpgx_pR"
      },
      "source": [
        "Run the app as python file"
      ]
    },
    {
      "cell_type": "code",
      "execution_count": 6,
      "metadata": {
        "colab": {
          "base_uri": "https://localhost:8080/"
        },
        "id": "-tCqMbUsx8qb",
        "outputId": "98c9eee7-0009-46bd-a471-386350e8cec8"
      },
      "outputs": [
        {
          "name": "stdout",
          "output_type": "stream",
          "text": [
            "INFO:ChatTTS.core:Load from cache: /root/.cache/huggingface/hub/models--2Noise--ChatTTS/snapshots/cc14302f34d7855eb3420d1fd48345012ff1460d\n",
            "INFO:ChatTTS.core:use cuda:0\n",
            "INFO:ChatTTS.core:vocos loaded.\n",
            "INFO:ChatTTS.core:dvae loaded.\n",
            "INFO:ChatTTS.core:gpt loaded.\n",
            "INFO:ChatTTS.core:decoder loaded.\n",
            "INFO:ChatTTS.core:tokenizer loaded.\n",
            "INFO:ChatTTS.core:All initialized.\n",
            "INFO:ChatTTS.core:All initialized.\n",
            " NeMo-text-processing :: INFO     :: Creating ClassifyFst grammars.\n",
            "INFO:NeMo-text-processing:Creating ClassifyFst grammars.\n",
            " 35% 134/384 [00:04<00:08, 29.72it/s]\n",
            " 60% 1227/2048 [00:31<00:20, 39.25it/s]\n",
            "INFO:ChatTTS.core:All initialized.\n",
            " 33% 128/384 [00:02<00:05, 45.06it/s]\n",
            " 59% 1211/2048 [00:30<00:20, 40.07it/s]\n"
          ]
        }
      ],
      "source": [
        "!python /content/ChatTTS/app.py"
      ]
    },
    {
      "cell_type": "code",
      "execution_count": 15,
      "metadata": {
        "id": "jbEv5vKzx-wL"
      },
      "outputs": [],
      "source": []
    },
    {
      "cell_type": "markdown",
      "metadata": {
        "id": "l_1mSueIySWm"
      },
      "source": [
        "Now, you will get the generated audio in the directory."
      ]
    }
  ],
  "metadata": {
    "accelerator": "GPU",
    "colab": {
      "gpuType": "T4",
      "provenance": []
    },
    "kernelspec": {
      "display_name": "Python 3",
      "name": "python3"
    },
    "language_info": {
      "name": "python"
    }
  },
  "nbformat": 4,
  "nbformat_minor": 0
}
